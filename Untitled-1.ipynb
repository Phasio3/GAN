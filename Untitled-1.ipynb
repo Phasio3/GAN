{
 "cells": [
  {
   "cell_type": "code",
<<<<<<< Updated upstream
<<<<<<< Updated upstream
   "execution_count": null,
=======
   "execution_count": 1,
>>>>>>> Stashed changes
=======
   "execution_count": 1,
>>>>>>> Stashed changes
   "id": "7578f730",
   "metadata": {},
   "outputs": [],
   "source": [
    "import numpy as np\n",
    "import matplotlib.pyplot as plt\n",
    "\n",
    "caca = np.sin(50 * np.linspace(0, 1, 100))"
   ]
<<<<<<< Updated upstream
<<<<<<< Updated upstream
  }
 ],
 "metadata": {
  "language_info": {
   "name": "python"
=======
=======
>>>>>>> Stashed changes
  },
  {
   "cell_type": "markdown",
   "id": "bba34b46",
   "metadata": {},
   "source": [
    "BONJOUR"
   ]
  }
 ],
 "metadata": {
  "kernelspec": {
   "display_name": "Python 3",
   "language": "python",
   "name": "python3"
  },
  "language_info": {
   "codemirror_mode": {
    "name": "ipython",
    "version": 3
   },
   "file_extension": ".py",
   "mimetype": "text/x-python",
   "name": "python",
   "nbconvert_exporter": "python",
   "pygments_lexer": "ipython3",
   "version": "3.13.7"
<<<<<<< Updated upstream
>>>>>>> Stashed changes
=======
>>>>>>> Stashed changes
  }
 },
 "nbformat": 4,
 "nbformat_minor": 5
}
